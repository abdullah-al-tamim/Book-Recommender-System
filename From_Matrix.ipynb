{
 "cells": [
  {
   "cell_type": "code",
   "execution_count": 93,
   "metadata": {},
   "outputs": [],
   "source": [
    "import pandas as pd\n",
    "import numpy as np\n",
    "import matplotlib.pyplot as plt\n",
    "from scipy.sparse import csr_matrix"
   ]
  },
  {
   "cell_type": "code",
   "execution_count": 94,
   "metadata": {},
   "outputs": [],
   "source": [
    "path = 'merged_df.csv'\n",
    "df = pd.read_csv(path)\n",
    "user_book_mat = df.pivot_table(columns='isbn', index='user_id', values='rating')\n",
    "user_book_mat.fillna(0, inplace=True)"
   ]
  },
  {
   "cell_type": "code",
   "execution_count": 95,
   "metadata": {},
   "outputs": [
    {
     "data": {
      "text/html": [
       "<style>#sk-container-id-5 {color: black;}#sk-container-id-5 pre{padding: 0;}#sk-container-id-5 div.sk-toggleable {background-color: white;}#sk-container-id-5 label.sk-toggleable__label {cursor: pointer;display: block;width: 100%;margin-bottom: 0;padding: 0.3em;box-sizing: border-box;text-align: center;}#sk-container-id-5 label.sk-toggleable__label-arrow:before {content: \"▸\";float: left;margin-right: 0.25em;color: #696969;}#sk-container-id-5 label.sk-toggleable__label-arrow:hover:before {color: black;}#sk-container-id-5 div.sk-estimator:hover label.sk-toggleable__label-arrow:before {color: black;}#sk-container-id-5 div.sk-toggleable__content {max-height: 0;max-width: 0;overflow: hidden;text-align: left;background-color: #f0f8ff;}#sk-container-id-5 div.sk-toggleable__content pre {margin: 0.2em;color: black;border-radius: 0.25em;background-color: #f0f8ff;}#sk-container-id-5 input.sk-toggleable__control:checked~div.sk-toggleable__content {max-height: 200px;max-width: 100%;overflow: auto;}#sk-container-id-5 input.sk-toggleable__control:checked~label.sk-toggleable__label-arrow:before {content: \"▾\";}#sk-container-id-5 div.sk-estimator input.sk-toggleable__control:checked~label.sk-toggleable__label {background-color: #d4ebff;}#sk-container-id-5 div.sk-label input.sk-toggleable__control:checked~label.sk-toggleable__label {background-color: #d4ebff;}#sk-container-id-5 input.sk-hidden--visually {border: 0;clip: rect(1px 1px 1px 1px);clip: rect(1px, 1px, 1px, 1px);height: 1px;margin: -1px;overflow: hidden;padding: 0;position: absolute;width: 1px;}#sk-container-id-5 div.sk-estimator {font-family: monospace;background-color: #f0f8ff;border: 1px dotted black;border-radius: 0.25em;box-sizing: border-box;margin-bottom: 0.5em;}#sk-container-id-5 div.sk-estimator:hover {background-color: #d4ebff;}#sk-container-id-5 div.sk-parallel-item::after {content: \"\";width: 100%;border-bottom: 1px solid gray;flex-grow: 1;}#sk-container-id-5 div.sk-label:hover label.sk-toggleable__label {background-color: #d4ebff;}#sk-container-id-5 div.sk-serial::before {content: \"\";position: absolute;border-left: 1px solid gray;box-sizing: border-box;top: 0;bottom: 0;left: 50%;z-index: 0;}#sk-container-id-5 div.sk-serial {display: flex;flex-direction: column;align-items: center;background-color: white;padding-right: 0.2em;padding-left: 0.2em;position: relative;}#sk-container-id-5 div.sk-item {position: relative;z-index: 1;}#sk-container-id-5 div.sk-parallel {display: flex;align-items: stretch;justify-content: center;background-color: white;position: relative;}#sk-container-id-5 div.sk-item::before, #sk-container-id-5 div.sk-parallel-item::before {content: \"\";position: absolute;border-left: 1px solid gray;box-sizing: border-box;top: 0;bottom: 0;left: 50%;z-index: -1;}#sk-container-id-5 div.sk-parallel-item {display: flex;flex-direction: column;z-index: 1;position: relative;background-color: white;}#sk-container-id-5 div.sk-parallel-item:first-child::after {align-self: flex-end;width: 50%;}#sk-container-id-5 div.sk-parallel-item:last-child::after {align-self: flex-start;width: 50%;}#sk-container-id-5 div.sk-parallel-item:only-child::after {width: 0;}#sk-container-id-5 div.sk-dashed-wrapped {border: 1px dashed gray;margin: 0 0.4em 0.5em 0.4em;box-sizing: border-box;padding-bottom: 0.4em;background-color: white;}#sk-container-id-5 div.sk-label label {font-family: monospace;font-weight: bold;display: inline-block;line-height: 1.2em;}#sk-container-id-5 div.sk-label-container {text-align: center;}#sk-container-id-5 div.sk-container {/* jupyter's `normalize.less` sets `[hidden] { display: none; }` but bootstrap.min.css set `[hidden] { display: none !important; }` so we also need the `!important` here to be able to override the default hidden behavior on the sphinx rendered scikit-learn.org. See: https://github.com/scikit-learn/scikit-learn/issues/21755 */display: inline-block !important;position: relative;}#sk-container-id-5 div.sk-text-repr-fallback {display: none;}</style><div id=\"sk-container-id-5\" class=\"sk-top-container\"><div class=\"sk-text-repr-fallback\"><pre>NearestNeighbors()</pre><b>In a Jupyter environment, please rerun this cell to show the HTML representation or trust the notebook. <br />On GitHub, the HTML representation is unable to render, please try loading this page with nbviewer.org.</b></div><div class=\"sk-container\" hidden><div class=\"sk-item\"><div class=\"sk-estimator sk-toggleable\"><input class=\"sk-toggleable__control sk-hidden--visually\" id=\"sk-estimator-id-5\" type=\"checkbox\" checked><label for=\"sk-estimator-id-5\" class=\"sk-toggleable__label sk-toggleable__label-arrow\">NearestNeighbors</label><div class=\"sk-toggleable__content\"><pre>NearestNeighbors()</pre></div></div></div></div></div>"
      ],
      "text/plain": [
       "NearestNeighbors()"
      ]
     },
     "execution_count": 95,
     "metadata": {},
     "output_type": "execute_result"
    }
   ],
   "source": [
    "from sklearn.neighbors import NearestNeighbors\n",
    "model = NearestNeighbors(algorithm='auto')\n",
    "# inside cse_matrix so that it doesn't calculate 0's as a rating\n",
    "user_book_csr = csr_matrix(user_book_mat)\n",
    "model.fit(user_book_csr)\n"
   ]
  },
  {
   "cell_type": "code",
   "execution_count": 96,
   "metadata": {},
   "outputs": [
    {
     "name": "stdout",
     "output_type": "stream",
     "text": [
      "[[ 0.         26.19160171 28.08914381 29.52964612 29.76575213 29.79932885\n",
      "  29.86636905 30.29851482 30.33150178 30.49590136]]\n",
      "[[   0 1061  733 1196 1038    7 1373 1180  432  662]]\n",
      "Similar users: \n",
      "Index([254, 183088, 130554, 208141, 179978, 2033, 239423, 205735, 79186,\n",
      "       118533],\n",
      "      dtype='int64', name='user_id')\n"
     ]
    }
   ],
   "source": [
    "distance, suggestions = model.kneighbors(user_book_mat.iloc[0,:].values.reshape(1,-1), n_neighbors=10 )\n",
    "print(distance)\n",
    "print(suggestions)\n",
    "print(\"Similar users: \")\n",
    "for i in range(len(suggestions)):\n",
    "    print(user_book_mat.index[suggestions[i]])\n"
   ]
  },
  {
   "cell_type": "code",
   "execution_count": 97,
   "metadata": {},
   "outputs": [
    {
     "name": "stdout",
     "output_type": "stream",
     "text": [
      "      input_user_id  other_user_id  correlation\n",
      "0              3363            254    -0.010136\n",
      "1              3363            507    -0.004776\n",
      "2              3363            882    -0.008582\n",
      "3              3363           1424    -0.007868\n",
      "4              3363           1435     0.161068\n",
      "...             ...            ...          ...\n",
      "1610           3363         277478     0.000000\n",
      "1611           3363         277639    -0.007317\n",
      "1612           3363         278137    -0.005573\n",
      "1613           3363         278188    -0.006695\n",
      "1614           3363         278418    -0.006798\n",
      "\n",
      "[1615 rows x 3 columns]\n"
     ]
    }
   ],
   "source": [
    "def pearson_correlation_coefficients(user_book_pivot_table, user_id):\n",
    "    user_rating = user_book_mat.loc[user_id]\n",
    "    user_rating = user_rating - user_rating.mean()\n",
    "\n",
    "    correlations = []\n",
    "    for other_user_id, other_user_ratings in user_book_pivot_table.iterrows():\n",
    "        if other_user_id != user_id:\n",
    "            # getting the  isbns of common ratings \n",
    "            common_ratings = user_rating.notna() & other_user_ratings.notna()\n",
    "            # print(common_ratings)\n",
    "            if len(common_ratings) > 0:\n",
    "                other_user_ratings = other_user_ratings - other_user_ratings[common_ratings].mean()\n",
    "                numerator = sum(user_rating[common_ratings] * other_user_ratings[common_ratings] )\n",
    "                denominator = ((sum((user_rating)**2))**0.5) * ((sum((other_user_ratings)**2))**0.5)\n",
    "                correlation = numerator / denominator if denominator != 0 else 0\n",
    "\n",
    "                correlations.append([user_id, other_user_id, correlation])\n",
    "\n",
    "    columns = ['input_user_id', 'other_user_id', 'correlation']\n",
    "    correlation_df = pd.DataFrame(correlations, columns=columns)\n",
    "\n",
    "    return correlation_df\n",
    "print(pearson_correlation_coefficients(user_book_mat, 3363))"
   ]
  },
  {
   "cell_type": "code",
   "execution_count": 98,
   "metadata": {},
   "outputs": [
    {
     "data": {
      "text/plain": [
       "Index(['Unnamed: 0', 'user_id', 'location', 'age', 'isbn', 'rating',\n",
       "       'book_title', 'book_author', 'year_of_publication', 'publisher',\n",
       "       'Language', 'Category', 'num_rating'],\n",
       "      dtype='object')"
      ]
     },
     "execution_count": 98,
     "metadata": {},
     "output_type": "execute_result"
    }
   ],
   "source": [
    "df.columns"
   ]
  },
  {
   "cell_type": "code",
   "execution_count": 99,
   "metadata": {},
   "outputs": [],
   "source": [
    "df.drop('Unnamed: 0', axis=1, inplace=True)"
   ]
  },
  {
   "cell_type": "code",
   "execution_count": 100,
   "metadata": {},
   "outputs": [],
   "source": [
    "ratings = df[['user_id', 'isbn', 'rating']]"
   ]
  },
  {
   "cell_type": "code",
   "execution_count": 101,
   "metadata": {},
   "outputs": [],
   "source": [
    "def get_recomendable_books(closest_neighbor_ratings, user_id):\n",
    "    closest_neighbor_ratings['weighted_rating'] = closest_neighbor_ratings['correlation'] * closest_neighbor_ratings['rating']\n",
    "    weighted_avg_rating = (\n",
    "        closest_neighbor_ratings.groupby('isbn')['weighted_rating'].sum() /\n",
    "        closest_neighbor_ratings.groupby('isbn')['correlation'].sum()\n",
    "    ).round(2)\n",
    "    target_user_ratings = df[df['user_id'] == user_id]\n",
    "    readed_books = target_user_ratings['isbn'].unique()\n",
    "    books_recommendable = weighted_avg_rating[~weighted_avg_rating.index.isin(readed_books)].to_frame()\n",
    "    # converting series to dataframe\n",
    "    books_recommendable = books_recommendable.reset_index()\n",
    "    books_recommendable.columns = ['isbn', 'weighted_avg_rating']\n",
    "    return books_recommendable"
   ]
  },
  {
   "cell_type": "code",
   "execution_count": 102,
   "metadata": {},
   "outputs": [],
   "source": [
    "def recommend_10_books(correlations, n,  user_id):\n",
    "    closest_neighbors = correlations.nlargest(n*3, 'correlation')\n",
    "    closest_neighbor_ratings = pd.merge(closest_neighbors, df, left_on='other_user_id', right_on='user_id')\n",
    "    \n",
    "    books_recommendable = get_recomendable_books(closest_neighbor_ratings, user_id) \n",
    "    # print(books_recommendable.head())\n",
    "    \n",
    "    top_10_recommendations = pd.merge(books_recommendable.nlargest(n, 'weighted_avg_rating'), df.drop_duplicates(subset='isbn'), on='isbn')\n",
    "    \n",
    "    return top_10_recommendations"
   ]
  },
  {
   "cell_type": "markdown",
   "metadata": {},
   "source": [
    "# 10 Recommendations for User"
   ]
  },
  {
   "cell_type": "code",
   "execution_count": 103,
   "metadata": {},
   "outputs": [
    {
     "data": {
      "text/html": [
       "<div>\n",
       "<style scoped>\n",
       "    .dataframe tbody tr th:only-of-type {\n",
       "        vertical-align: middle;\n",
       "    }\n",
       "\n",
       "    .dataframe tbody tr th {\n",
       "        vertical-align: top;\n",
       "    }\n",
       "\n",
       "    .dataframe thead th {\n",
       "        text-align: right;\n",
       "    }\n",
       "</style>\n",
       "<table border=\"1\" class=\"dataframe\">\n",
       "  <thead>\n",
       "    <tr style=\"text-align: right;\">\n",
       "      <th></th>\n",
       "      <th>isbn</th>\n",
       "      <th>book_title</th>\n",
       "      <th>book_author</th>\n",
       "      <th>weighted_avg_rating</th>\n",
       "    </tr>\n",
       "  </thead>\n",
       "  <tbody>\n",
       "    <tr>\n",
       "      <th>0</th>\n",
       "      <td>0140042598</td>\n",
       "      <td>On the Road</td>\n",
       "      <td>Jack Kerouac</td>\n",
       "      <td>10.0</td>\n",
       "    </tr>\n",
       "    <tr>\n",
       "      <th>1</th>\n",
       "      <td>0380731851</td>\n",
       "      <td>Mystic River</td>\n",
       "      <td>Dennis Lehane</td>\n",
       "      <td>10.0</td>\n",
       "    </tr>\n",
       "    <tr>\n",
       "      <th>2</th>\n",
       "      <td>043935806X</td>\n",
       "      <td>Harry Potter and the Order of the Phoenix (Boo...</td>\n",
       "      <td>J. K. Rowling</td>\n",
       "      <td>10.0</td>\n",
       "    </tr>\n",
       "    <tr>\n",
       "      <th>3</th>\n",
       "      <td>0451526341</td>\n",
       "      <td>Animal Farm</td>\n",
       "      <td>George Orwell</td>\n",
       "      <td>10.0</td>\n",
       "    </tr>\n",
       "    <tr>\n",
       "      <th>4</th>\n",
       "      <td>0553582755</td>\n",
       "      <td>One Door Away from Heaven</td>\n",
       "      <td>Dean R. Koontz</td>\n",
       "      <td>10.0</td>\n",
       "    </tr>\n",
       "    <tr>\n",
       "      <th>5</th>\n",
       "      <td>0671042262</td>\n",
       "      <td>The Blue Nowhere : A Novel</td>\n",
       "      <td>Jeffery Deaver</td>\n",
       "      <td>10.0</td>\n",
       "    </tr>\n",
       "    <tr>\n",
       "      <th>6</th>\n",
       "      <td>0312422156</td>\n",
       "      <td>Middlesex: A Novel</td>\n",
       "      <td>Jeffrey Eugenides</td>\n",
       "      <td>9.0</td>\n",
       "    </tr>\n",
       "    <tr>\n",
       "      <th>7</th>\n",
       "      <td>0312995423</td>\n",
       "      <td>Digital Fortress : A Thriller</td>\n",
       "      <td>Dan Brown</td>\n",
       "      <td>9.0</td>\n",
       "    </tr>\n",
       "    <tr>\n",
       "      <th>8</th>\n",
       "      <td>0316788228</td>\n",
       "      <td>The Pilot's Wife</td>\n",
       "      <td>Anita Shreve</td>\n",
       "      <td>9.0</td>\n",
       "    </tr>\n",
       "    <tr>\n",
       "      <th>9</th>\n",
       "      <td>0380727501</td>\n",
       "      <td>Notes from a Small Island</td>\n",
       "      <td>Bill Bryson</td>\n",
       "      <td>9.0</td>\n",
       "    </tr>\n",
       "  </tbody>\n",
       "</table>\n",
       "</div>"
      ],
      "text/plain": [
       "         isbn                                         book_title  \\\n",
       "0  0140042598                                        On the Road   \n",
       "1  0380731851                                       Mystic River   \n",
       "2  043935806X  Harry Potter and the Order of the Phoenix (Boo...   \n",
       "3  0451526341                                        Animal Farm   \n",
       "4  0553582755                          One Door Away from Heaven   \n",
       "5  0671042262                         The Blue Nowhere : A Novel   \n",
       "6  0312422156                                 Middlesex: A Novel   \n",
       "7  0312995423                      Digital Fortress : A Thriller   \n",
       "8  0316788228                                   The Pilot's Wife   \n",
       "9  0380727501                          Notes from a Small Island   \n",
       "\n",
       "         book_author  weighted_avg_rating  \n",
       "0       Jack Kerouac                 10.0  \n",
       "1      Dennis Lehane                 10.0  \n",
       "2      J. K. Rowling                 10.0  \n",
       "3      George Orwell                 10.0  \n",
       "4     Dean R. Koontz                 10.0  \n",
       "5     Jeffery Deaver                 10.0  \n",
       "6  Jeffrey Eugenides                  9.0  \n",
       "7          Dan Brown                  9.0  \n",
       "8       Anita Shreve                  9.0  \n",
       "9        Bill Bryson                  9.0  "
      ]
     },
     "execution_count": 103,
     "metadata": {},
     "output_type": "execute_result"
    }
   ],
   "source": [
    "user_id = int(input(\"Enter the user_id: \"))\n",
    "correlations = pearson_correlation_coefficients(user_book_mat, user_id)\n",
    "top_10_recommendations = recommend_10_books(correlations, 10, user_id)\n",
    "top_10_recommendations[['isbn', 'book_title','book_author', 'weighted_avg_rating']].head(15)"
   ]
  },
  {
   "cell_type": "markdown",
   "metadata": {},
   "source": [
    "# Rating Prediction From UserID and ISBN"
   ]
  },
  {
   "cell_type": "code",
   "execution_count": 104,
   "metadata": {},
   "outputs": [],
   "source": [
    "def filter_users_by_isbn(target_isbn, whole_df):\n",
    "    target_ratings = whole_df[(whole_df['isbn'] == target_isbn) & (whole_df['rating'] > 0)]\n",
    "\n",
    "    if target_ratings.empty:\n",
    "        return whole_df\n",
    "\n",
    "    unique_user_ids = target_ratings['user_id'].unique()\n",
    "    filtered_df = whole_df[whole_df['user_id'].isin(unique_user_ids)]\n",
    "    return filtered_df"
   ]
  },
  {
   "cell_type": "code",
   "execution_count": 187,
   "metadata": {},
   "outputs": [],
   "source": [
    "def predict_rating(user_id, isbn, filt_user_book_mat, correlations_df, n):\n",
    "    top_correlations = correlations_df[correlations_df['input_user_id'] == user_id].nlargest(n, 'correlation')\n",
    "    print(top_correlations)\n",
    "    # length = \n",
    "    numerator = sum((top_correlations['correlation']*(filt_user_book_mat.loc[top_correlations['other_user_id'], isbn]).values))\n",
    "    denominator = sum(top_correlations['correlation'])\n",
    "    print((filt_user_book_mat.loc[top_correlations['other_user_id'], isbn]))\n",
    "    if denominator == 0:\n",
    "        return None\n",
    "    print(numerator, denominator)\n",
    "    predicted_rating = numerator / denominator\n",
    "    return predicted_rating"
   ]
  },
  {
   "cell_type": "code",
   "execution_count": 191,
   "metadata": {},
   "outputs": [
    {
     "name": "stdout",
     "output_type": "stream",
     "text": [
      "    input_user_id  other_user_id  correlation\n",
      "1          278418           6251     0.088112\n",
      "47         278418         245410     0.060076\n",
      "14         278418          75591     0.044103\n",
      "11         278418          60244     0.036891\n",
      "46         278418         234828     0.022668\n",
      "user_id\n",
      "6251      10.0\n",
      "245410     8.0\n",
      "75591     10.0\n",
      "60244      8.0\n",
      "234828    10.0\n",
      "Name: 0060392452, dtype: float64\n",
      "2.3245643321345293 0.25184970454787514\n",
      "Predicted Rating of user 278418 for 0060392452 is 9.229966484604882\n"
     ]
    }
   ],
   "source": [
    "user_id = 278418\n",
    "isbn = '0060392452'\n",
    "n = 5\n",
    "filtered_df = filter_users_by_isbn(isbn, df)\n",
    "if filtered_df.equals(df):\n",
    "    print(\"There are no users who has rated this book.\")\n",
    "    \n",
    "else:\n",
    "    filtered_df.head()\n",
    "    filt_user_book_mat = filtered_df.pivot_table(columns='isbn', index='user_id', values='rating')\n",
    "    filt_user_book_mat.fillna(0, inplace=True)\n",
    "correlations = pearson_correlation_coefficients(filt_user_book_mat, user_id)\n",
    "predicted_rating = predict_rating(user_id, isbn, filt_user_book_mat, correlations, n)\n",
    "if predicted_rating is not None: \n",
    "    print(\"Predicted Rating of user\",user_id,\"for\",isbn,\"is\",predicted_rating)\n",
    "else:\n",
    "    print(predicted_rating)\n",
    "    "
   ]
  },
  {
   "cell_type": "code",
   "execution_count": 192,
   "metadata": {},
   "outputs": [
    {
     "data": {
      "text/plain": [
       "Index(['user_id', 'location', 'age', 'isbn', 'rating', 'book_title',\n",
       "       'book_author', 'year_of_publication', 'publisher', 'Language',\n",
       "       'Category', 'num_rating'],\n",
       "      dtype='object')"
      ]
     },
     "execution_count": 192,
     "metadata": {},
     "output_type": "execute_result"
    }
   ],
   "source": [
    "filtered_df.columns"
   ]
  },
  {
   "cell_type": "code",
   "execution_count": null,
   "metadata": {},
   "outputs": [],
   "source": []
  }
 ],
 "metadata": {
  "kernelspec": {
   "display_name": "Python 3",
   "language": "python",
   "name": "python3"
  },
  "language_info": {
   "codemirror_mode": {
    "name": "ipython",
    "version": 3
   },
   "file_extension": ".py",
   "mimetype": "text/x-python",
   "name": "python",
   "nbconvert_exporter": "python",
   "pygments_lexer": "ipython3",
   "version": "3.10.11"
  }
 },
 "nbformat": 4,
 "nbformat_minor": 2
}
