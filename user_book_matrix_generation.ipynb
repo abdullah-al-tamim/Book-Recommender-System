{
  "cells": [
    {
      "cell_type": "code",
      "execution_count": 2,
      "metadata": {
        "colab": {
          "base_uri": "https://localhost:8080/"
        },
        "id": "vbvO3rtfpmCS",
        "outputId": "1a7cafce-5138-4d67-caef-e8104c6c74c1"
      },
      "outputs": [],
      "source": [
        "# from google.colab import drive\n",
        "# drive.mount('/content/drive')"
      ]
    },
    {
      "cell_type": "markdown",
      "metadata": {},
      "source": [
        "# Import and Load"
      ]
    },
    {
      "cell_type": "code",
      "execution_count": 3,
      "metadata": {
        "id": "NYW0Uq_wuRO_"
      },
      "outputs": [],
      "source": [
        "import pandas as pd\n",
        "import numpy as np\n",
        "import matplotlib.pyplot as plt\n",
        "from scipy.sparse import csr_matrix"
      ]
    },
    {
      "cell_type": "code",
      "execution_count": 4,
      "metadata": {
        "id": "HR2MLdxxulwt"
      },
      "outputs": [],
      "source": [
        "path = r'C:\\Users\\ASUS\\Documents\\12_FALL 23\\CSE488-Big Data Analytics\\Project\\Books Data with Category Language and Summary\\Preprocessed_data.csv'\n",
        "df = pd.read_csv(path)"
      ]
    },
    {
      "cell_type": "code",
      "execution_count": 5,
      "metadata": {},
      "outputs": [],
      "source": [
        "# path = r\"C:\\Users\\ASUS\\Documents\\12_FALL 23\\CSE488-Big Data Analytics\\Project\\Book reviews\\Book reviews\\BX-Book-Ratings.csv\"\n",
        "# df = pd.read_csv(path , sep=\";\", encoding=\"latin-1\")"
      ]
    },
    {
      "cell_type": "code",
      "execution_count": 6,
      "metadata": {
        "colab": {
          "base_uri": "https://localhost:8080/",
          "height": 660
        },
        "id": "IaPF3Kg_wkwE",
        "outputId": "57f4a30f-6541-49c9-af2e-1511167b5f9b"
      },
      "outputs": [
        {
          "data": {
            "text/html": [
              "<div>\n",
              "<style scoped>\n",
              "    .dataframe tbody tr th:only-of-type {\n",
              "        vertical-align: middle;\n",
              "    }\n",
              "\n",
              "    .dataframe tbody tr th {\n",
              "        vertical-align: top;\n",
              "    }\n",
              "\n",
              "    .dataframe thead th {\n",
              "        text-align: right;\n",
              "    }\n",
              "</style>\n",
              "<table border=\"1\" class=\"dataframe\">\n",
              "  <thead>\n",
              "    <tr style=\"text-align: right;\">\n",
              "      <th></th>\n",
              "      <th>Unnamed: 0</th>\n",
              "      <th>user_id</th>\n",
              "      <th>location</th>\n",
              "      <th>age</th>\n",
              "      <th>isbn</th>\n",
              "      <th>rating</th>\n",
              "      <th>book_title</th>\n",
              "      <th>book_author</th>\n",
              "      <th>year_of_publication</th>\n",
              "      <th>publisher</th>\n",
              "      <th>img_s</th>\n",
              "      <th>img_m</th>\n",
              "      <th>img_l</th>\n",
              "      <th>Summary</th>\n",
              "      <th>Language</th>\n",
              "      <th>Category</th>\n",
              "      <th>city</th>\n",
              "      <th>state</th>\n",
              "      <th>country</th>\n",
              "    </tr>\n",
              "  </thead>\n",
              "  <tbody>\n",
              "    <tr>\n",
              "      <th>0</th>\n",
              "      <td>0</td>\n",
              "      <td>2</td>\n",
              "      <td>stockton, california, usa</td>\n",
              "      <td>18.0000</td>\n",
              "      <td>0195153448</td>\n",
              "      <td>0</td>\n",
              "      <td>Classical Mythology</td>\n",
              "      <td>Mark P. O. Morford</td>\n",
              "      <td>2002.0</td>\n",
              "      <td>Oxford University Press</td>\n",
              "      <td>http://images.amazon.com/images/P/0195153448.0...</td>\n",
              "      <td>http://images.amazon.com/images/P/0195153448.0...</td>\n",
              "      <td>http://images.amazon.com/images/P/0195153448.0...</td>\n",
              "      <td>Provides an introduction to classical myths pl...</td>\n",
              "      <td>en</td>\n",
              "      <td>['Social Science']</td>\n",
              "      <td>stockton</td>\n",
              "      <td>california</td>\n",
              "      <td>usa</td>\n",
              "    </tr>\n",
              "    <tr>\n",
              "      <th>1</th>\n",
              "      <td>1</td>\n",
              "      <td>8</td>\n",
              "      <td>timmins, ontario, canada</td>\n",
              "      <td>34.7439</td>\n",
              "      <td>0002005018</td>\n",
              "      <td>5</td>\n",
              "      <td>Clara Callan</td>\n",
              "      <td>Richard Bruce Wright</td>\n",
              "      <td>2001.0</td>\n",
              "      <td>HarperFlamingo Canada</td>\n",
              "      <td>http://images.amazon.com/images/P/0002005018.0...</td>\n",
              "      <td>http://images.amazon.com/images/P/0002005018.0...</td>\n",
              "      <td>http://images.amazon.com/images/P/0002005018.0...</td>\n",
              "      <td>In a small town in Canada, Clara Callan reluct...</td>\n",
              "      <td>en</td>\n",
              "      <td>['Actresses']</td>\n",
              "      <td>timmins</td>\n",
              "      <td>ontario</td>\n",
              "      <td>canada</td>\n",
              "    </tr>\n",
              "    <tr>\n",
              "      <th>2</th>\n",
              "      <td>2</td>\n",
              "      <td>11400</td>\n",
              "      <td>ottawa, ontario, canada</td>\n",
              "      <td>49.0000</td>\n",
              "      <td>0002005018</td>\n",
              "      <td>0</td>\n",
              "      <td>Clara Callan</td>\n",
              "      <td>Richard Bruce Wright</td>\n",
              "      <td>2001.0</td>\n",
              "      <td>HarperFlamingo Canada</td>\n",
              "      <td>http://images.amazon.com/images/P/0002005018.0...</td>\n",
              "      <td>http://images.amazon.com/images/P/0002005018.0...</td>\n",
              "      <td>http://images.amazon.com/images/P/0002005018.0...</td>\n",
              "      <td>In a small town in Canada, Clara Callan reluct...</td>\n",
              "      <td>en</td>\n",
              "      <td>['Actresses']</td>\n",
              "      <td>ottawa</td>\n",
              "      <td>ontario</td>\n",
              "      <td>canada</td>\n",
              "    </tr>\n",
              "    <tr>\n",
              "      <th>3</th>\n",
              "      <td>3</td>\n",
              "      <td>11676</td>\n",
              "      <td>n/a, n/a, n/a</td>\n",
              "      <td>34.7439</td>\n",
              "      <td>0002005018</td>\n",
              "      <td>8</td>\n",
              "      <td>Clara Callan</td>\n",
              "      <td>Richard Bruce Wright</td>\n",
              "      <td>2001.0</td>\n",
              "      <td>HarperFlamingo Canada</td>\n",
              "      <td>http://images.amazon.com/images/P/0002005018.0...</td>\n",
              "      <td>http://images.amazon.com/images/P/0002005018.0...</td>\n",
              "      <td>http://images.amazon.com/images/P/0002005018.0...</td>\n",
              "      <td>In a small town in Canada, Clara Callan reluct...</td>\n",
              "      <td>en</td>\n",
              "      <td>['Actresses']</td>\n",
              "      <td>NaN</td>\n",
              "      <td>NaN</td>\n",
              "      <td>NaN</td>\n",
              "    </tr>\n",
              "    <tr>\n",
              "      <th>4</th>\n",
              "      <td>4</td>\n",
              "      <td>41385</td>\n",
              "      <td>sudbury, ontario, canada</td>\n",
              "      <td>34.7439</td>\n",
              "      <td>0002005018</td>\n",
              "      <td>0</td>\n",
              "      <td>Clara Callan</td>\n",
              "      <td>Richard Bruce Wright</td>\n",
              "      <td>2001.0</td>\n",
              "      <td>HarperFlamingo Canada</td>\n",
              "      <td>http://images.amazon.com/images/P/0002005018.0...</td>\n",
              "      <td>http://images.amazon.com/images/P/0002005018.0...</td>\n",
              "      <td>http://images.amazon.com/images/P/0002005018.0...</td>\n",
              "      <td>In a small town in Canada, Clara Callan reluct...</td>\n",
              "      <td>en</td>\n",
              "      <td>['Actresses']</td>\n",
              "      <td>sudbury</td>\n",
              "      <td>ontario</td>\n",
              "      <td>canada</td>\n",
              "    </tr>\n",
              "  </tbody>\n",
              "</table>\n",
              "</div>"
            ],
            "text/plain": [
              "   Unnamed: 0  user_id                   location      age        isbn  \\\n",
              "0           0        2  stockton, california, usa  18.0000  0195153448   \n",
              "1           1        8   timmins, ontario, canada  34.7439  0002005018   \n",
              "2           2    11400    ottawa, ontario, canada  49.0000  0002005018   \n",
              "3           3    11676              n/a, n/a, n/a  34.7439  0002005018   \n",
              "4           4    41385   sudbury, ontario, canada  34.7439  0002005018   \n",
              "\n",
              "   rating           book_title           book_author  year_of_publication  \\\n",
              "0       0  Classical Mythology    Mark P. O. Morford               2002.0   \n",
              "1       5         Clara Callan  Richard Bruce Wright               2001.0   \n",
              "2       0         Clara Callan  Richard Bruce Wright               2001.0   \n",
              "3       8         Clara Callan  Richard Bruce Wright               2001.0   \n",
              "4       0         Clara Callan  Richard Bruce Wright               2001.0   \n",
              "\n",
              "                 publisher                                              img_s  \\\n",
              "0  Oxford University Press  http://images.amazon.com/images/P/0195153448.0...   \n",
              "1    HarperFlamingo Canada  http://images.amazon.com/images/P/0002005018.0...   \n",
              "2    HarperFlamingo Canada  http://images.amazon.com/images/P/0002005018.0...   \n",
              "3    HarperFlamingo Canada  http://images.amazon.com/images/P/0002005018.0...   \n",
              "4    HarperFlamingo Canada  http://images.amazon.com/images/P/0002005018.0...   \n",
              "\n",
              "                                               img_m  \\\n",
              "0  http://images.amazon.com/images/P/0195153448.0...   \n",
              "1  http://images.amazon.com/images/P/0002005018.0...   \n",
              "2  http://images.amazon.com/images/P/0002005018.0...   \n",
              "3  http://images.amazon.com/images/P/0002005018.0...   \n",
              "4  http://images.amazon.com/images/P/0002005018.0...   \n",
              "\n",
              "                                               img_l  \\\n",
              "0  http://images.amazon.com/images/P/0195153448.0...   \n",
              "1  http://images.amazon.com/images/P/0002005018.0...   \n",
              "2  http://images.amazon.com/images/P/0002005018.0...   \n",
              "3  http://images.amazon.com/images/P/0002005018.0...   \n",
              "4  http://images.amazon.com/images/P/0002005018.0...   \n",
              "\n",
              "                                             Summary Language  \\\n",
              "0  Provides an introduction to classical myths pl...       en   \n",
              "1  In a small town in Canada, Clara Callan reluct...       en   \n",
              "2  In a small town in Canada, Clara Callan reluct...       en   \n",
              "3  In a small town in Canada, Clara Callan reluct...       en   \n",
              "4  In a small town in Canada, Clara Callan reluct...       en   \n",
              "\n",
              "             Category      city       state country  \n",
              "0  ['Social Science']  stockton  california     usa  \n",
              "1       ['Actresses']   timmins     ontario  canada  \n",
              "2       ['Actresses']    ottawa     ontario  canada  \n",
              "3       ['Actresses']       NaN         NaN     NaN  \n",
              "4       ['Actresses']   sudbury     ontario  canada  "
            ]
          },
          "execution_count": 6,
          "metadata": {},
          "output_type": "execute_result"
        }
      ],
      "source": [
        "df.head()"
      ]
    },
    {
      "cell_type": "markdown",
      "metadata": {},
      "source": [
        "# Preprocessing"
      ]
    },
    {
      "cell_type": "markdown",
      "metadata": {},
      "source": [
        "## Overall analysis"
      ]
    },
    {
      "cell_type": "code",
      "execution_count": 7,
      "metadata": {
        "id": "NltCdzHMwxxn"
      },
      "outputs": [],
      "source": [
        "df.drop('Unnamed: 0', axis = 1, inplace = True)"
      ]
    },
    {
      "cell_type": "code",
      "execution_count": 8,
      "metadata": {},
      "outputs": [],
      "source": [
        "df.drop(['img_s', 'img_m', 'img_l', 'Summary', 'city', 'state', 'country'], axis = 1, inplace = True)"
      ]
    },
    {
      "cell_type": "code",
      "execution_count": 9,
      "metadata": {
        "colab": {
          "base_uri": "https://localhost:8080/"
        },
        "id": "3aRvOjWXxTju",
        "outputId": "8fabfa91-585f-4bda-bcab-362c4df1df69"
      },
      "outputs": [
        {
          "data": {
            "text/plain": [
              "(1031175, 11)"
            ]
          },
          "execution_count": 9,
          "metadata": {},
          "output_type": "execute_result"
        }
      ],
      "source": [
        "df.shape"
      ]
    },
    {
      "cell_type": "code",
      "execution_count": 10,
      "metadata": {
        "colab": {
          "base_uri": "https://localhost:8080/"
        },
        "id": "SXyNNeKFxW4d",
        "outputId": "9db75c6e-6e03-4130-d22b-fa7e1f491c34"
      },
      "outputs": [
        {
          "data": {
            "text/plain": [
              "Index(['user_id', 'location', 'age', 'isbn', 'rating', 'book_title',\n",
              "       'book_author', 'year_of_publication', 'publisher', 'Language',\n",
              "       'Category'],\n",
              "      dtype='object')"
            ]
          },
          "execution_count": 10,
          "metadata": {},
          "output_type": "execute_result"
        }
      ],
      "source": [
        "df.columns"
      ]
    },
    {
      "cell_type": "code",
      "execution_count": 11,
      "metadata": {
        "colab": {
          "base_uri": "https://localhost:8080/"
        },
        "id": "xWhlwncGxaUf",
        "outputId": "dcdfd48b-6b7e-4f2c-a76d-0ed8ab0bd119"
      },
      "outputs": [
        {
          "name": "stdout",
          "output_type": "stream",
          "text": [
            "<class 'pandas.core.frame.DataFrame'>\n",
            "RangeIndex: 1031175 entries, 0 to 1031174\n",
            "Data columns (total 11 columns):\n",
            " #   Column               Non-Null Count    Dtype  \n",
            "---  ------               --------------    -----  \n",
            " 0   user_id              1031175 non-null  int64  \n",
            " 1   location             1031175 non-null  object \n",
            " 2   age                  1031175 non-null  float64\n",
            " 3   isbn                 1031175 non-null  object \n",
            " 4   rating               1031175 non-null  int64  \n",
            " 5   book_title           1031175 non-null  object \n",
            " 6   book_author          1031174 non-null  object \n",
            " 7   year_of_publication  1031175 non-null  float64\n",
            " 8   publisher            1031175 non-null  object \n",
            " 9   Language             1031175 non-null  object \n",
            " 10  Category             1031175 non-null  object \n",
            "dtypes: float64(2), int64(2), object(7)\n",
            "memory usage: 86.5+ MB\n"
          ]
        }
      ],
      "source": [
        "df.info()"
      ]
    },
    {
      "cell_type": "code",
      "execution_count": 12,
      "metadata": {
        "colab": {
          "base_uri": "https://localhost:8080/"
        },
        "id": "3_IoucFjz94f",
        "outputId": "fc7c5154-7dcc-4941-9176-78f9f9a443d1"
      },
      "outputs": [
        {
          "data": {
            "text/plain": [
              "user_id                0\n",
              "location               0\n",
              "age                    0\n",
              "isbn                   0\n",
              "rating                 0\n",
              "book_title             0\n",
              "book_author            1\n",
              "year_of_publication    0\n",
              "publisher              0\n",
              "Language               0\n",
              "Category               0\n",
              "dtype: int64"
            ]
          },
          "execution_count": 12,
          "metadata": {},
          "output_type": "execute_result"
        }
      ],
      "source": [
        "df.isnull().sum()"
      ]
    },
    {
      "cell_type": "code",
      "execution_count": 13,
      "metadata": {},
      "outputs": [
        {
          "data": {
            "text/plain": [
              "user_id                 92107\n",
              "location                22480\n",
              "age                        93\n",
              "isbn                   270170\n",
              "rating                     11\n",
              "book_title             241090\n",
              "book_author            101593\n",
              "year_of_publication       104\n",
              "publisher               16729\n",
              "Language                   33\n",
              "Category                 6448\n",
              "dtype: int64"
            ]
          },
          "execution_count": 13,
          "metadata": {},
          "output_type": "execute_result"
        }
      ],
      "source": [
        "df.nunique()"
      ]
    },
    {
      "cell_type": "code",
      "execution_count": 14,
      "metadata": {},
      "outputs": [
        {
          "name": "stdout",
          "output_type": "stream",
          "text": [
            "[ 0  5  8  9  7  6 10  4  3  2  1]\n"
          ]
        }
      ],
      "source": [
        "print(df['rating'].unique())\n"
      ]
    },
    {
      "cell_type": "code",
      "execution_count": 15,
      "metadata": {},
      "outputs": [
        {
          "name": "stdout",
          "output_type": "stream",
          "text": [
            "Rating Frequencies: rating\n",
            "0     647323\n",
            "8      91806\n",
            "10     71227\n",
            "7      66404\n",
            "9      60780\n",
            "5      45355\n",
            "6      31689\n",
            "4       7617\n",
            "3       5118\n",
            "2       2375\n",
            "1       1481\n",
            "Name: count, dtype: int64\n"
          ]
        }
      ],
      "source": [
        "ratings = df['rating'].value_counts()\n",
        "print(\"Rating Frequencies:\", ratings)"
      ]
    },
    {
      "cell_type": "code",
      "execution_count": 16,
      "metadata": {},
      "outputs": [
        {
          "data": {
            "image/png": "[encoded data removed]",
            "text/plain": [
              "<Figure size 800x600 with 1 Axes>"
            ]
          },
          "metadata": {},
          "output_type": "display_data"
        }
      ],
      "source": [
        "percentage_ratings = (ratings / len(df['rating'])) * 100\n",
        "plt.figure(figsize=(8, 6))\n",
        "percentage_ratings.plot(kind='bar', color='skyblue')\n",
        "plt.title('Percentage of Each Unique Rating')\n",
        "plt.xlabel('Rating')\n",
        "plt.ylabel('Percentage')\n",
        "plt.show()"
      ]
    },
    {
      "cell_type": "markdown",
      "metadata": {},
      "source": [
        "## User Analysis"
      ]
    },
    {
      "cell_type": "code",
      "execution_count": 17,
      "metadata": {},
      "outputs": [
        {
          "name": "stdout",
          "output_type": "stream",
          "text": [
            "Number of Users: \n"
          ]
        },
        {
          "data": {
            "text/plain": [
              "92107"
            ]
          },
          "execution_count": 17,
          "metadata": {},
          "output_type": "execute_result"
        }
      ],
      "source": [
        "print(\"Number of Users: \")\n",
        "df['user_id'].nunique()"
      ]
    },
    {
      "cell_type": "code",
      "execution_count": 18,
      "metadata": {},
      "outputs": [
        {
          "name": "stdout",
          "output_type": "stream",
          "text": [
            "Ratings given by each user: \n"
          ]
        },
        {
          "data": {
            "text/plain": [
              "user_id\n",
              "11676     11144\n",
              "198711     6456\n",
              "153662     5814\n",
              "98391      5779\n",
              "35859      5646\n",
              "          ...  \n",
              "137038        1\n",
              "137043        1\n",
              "137049        1\n",
              "137055        1\n",
              "2             1\n",
              "Name: rating, Length: 92107, dtype: int64"
            ]
          },
          "execution_count": 18,
          "metadata": {},
          "output_type": "execute_result"
        }
      ],
      "source": [
        "print(\"Ratings given by each user: \")\n",
        "df.groupby('user_id')['rating'].count().sort_values(ascending= False)"
      ]
    },
    {
      "cell_type": "code",
      "execution_count": 19,
      "metadata": {},
      "outputs": [
        {
          "name": "stdout",
          "output_type": "stream",
          "text": [
            "Number of users who has given more then 100 reviews: \n"
          ]
        },
        {
          "data": {
            "text/plain": [
              "(1648,)"
            ]
          },
          "execution_count": 19,
          "metadata": {},
          "output_type": "execute_result"
        }
      ],
      "source": [
        "print(\"Number of users who has given more then 100 reviews: \")\n",
        "temp = df.groupby('user_id')['rating'].count()\n",
        "users = temp[temp>100]\n",
        "users.shape"
      ]
    },
    {
      "cell_type": "code",
      "execution_count": 20,
      "metadata": {},
      "outputs": [
        {
          "data": {
            "text/html": [
              "<div>\n",
              "<style scoped>\n",
              "    .dataframe tbody tr th:only-of-type {\n",
              "        vertical-align: middle;\n",
              "    }\n",
              "\n",
              "    .dataframe tbody tr th {\n",
              "        vertical-align: top;\n",
              "    }\n",
              "\n",
              "    .dataframe thead th {\n",
              "        text-align: right;\n",
              "    }\n",
              "</style>\n",
              "<table border=\"1\" class=\"dataframe\">\n",
              "  <thead>\n",
              "    <tr style=\"text-align: right;\">\n",
              "      <th></th>\n",
              "      <th>user_id</th>\n",
              "      <th>location</th>\n",
              "      <th>age</th>\n",
              "      <th>isbn</th>\n",
              "      <th>rating</th>\n",
              "      <th>book_title</th>\n",
              "      <th>book_author</th>\n",
              "      <th>year_of_publication</th>\n",
              "      <th>publisher</th>\n",
              "      <th>Language</th>\n",
              "      <th>Category</th>\n",
              "    </tr>\n",
              "  </thead>\n",
              "  <tbody>\n",
              "    <tr>\n",
              "      <th>3</th>\n",
              "      <td>11676</td>\n",
              "      <td>n/a, n/a, n/a</td>\n",
              "      <td>34.7439</td>\n",
              "      <td>0002005018</td>\n",
              "      <td>8</td>\n",
              "      <td>Clara Callan</td>\n",
              "      <td>Richard Bruce Wright</td>\n",
              "      <td>2001.0</td>\n",
              "      <td>HarperFlamingo Canada</td>\n",
              "      <td>en</td>\n",
              "      <td>['Actresses']</td>\n",
              "    </tr>\n",
              "    <tr>\n",
              "      <th>6</th>\n",
              "      <td>85526</td>\n",
              "      <td>victoria, british columbia, canada</td>\n",
              "      <td>36.0000</td>\n",
              "      <td>0002005018</td>\n",
              "      <td>0</td>\n",
              "      <td>Clara Callan</td>\n",
              "      <td>Richard Bruce Wright</td>\n",
              "      <td>2001.0</td>\n",
              "      <td>HarperFlamingo Canada</td>\n",
              "      <td>en</td>\n",
              "      <td>['Actresses']</td>\n",
              "    </tr>\n",
              "    <tr>\n",
              "      <th>7</th>\n",
              "      <td>96054</td>\n",
              "      <td>ottawa, ontario, canada</td>\n",
              "      <td>29.0000</td>\n",
              "      <td>0002005018</td>\n",
              "      <td>0</td>\n",
              "      <td>Clara Callan</td>\n",
              "      <td>Richard Bruce Wright</td>\n",
              "      <td>2001.0</td>\n",
              "      <td>HarperFlamingo Canada</td>\n",
              "      <td>en</td>\n",
              "      <td>['Actresses']</td>\n",
              "    </tr>\n",
              "    <tr>\n",
              "      <th>10</th>\n",
              "      <td>177458</td>\n",
              "      <td>ottawa, ontario, canada</td>\n",
              "      <td>29.0000</td>\n",
              "      <td>0002005018</td>\n",
              "      <td>0</td>\n",
              "      <td>Clara Callan</td>\n",
              "      <td>Richard Bruce Wright</td>\n",
              "      <td>2001.0</td>\n",
              "      <td>HarperFlamingo Canada</td>\n",
              "      <td>en</td>\n",
              "      <td>['Actresses']</td>\n",
              "    </tr>\n",
              "    <tr>\n",
              "      <th>13</th>\n",
              "      <td>219008</td>\n",
              "      <td>halifax, nova scotia, canada</td>\n",
              "      <td>60.0000</td>\n",
              "      <td>0002005018</td>\n",
              "      <td>7</td>\n",
              "      <td>Clara Callan</td>\n",
              "      <td>Richard Bruce Wright</td>\n",
              "      <td>2001.0</td>\n",
              "      <td>HarperFlamingo Canada</td>\n",
              "      <td>en</td>\n",
              "      <td>['Actresses']</td>\n",
              "    </tr>\n",
              "  </tbody>\n",
              "</table>\n",
              "</div>"
            ],
            "text/plain": [
              "    user_id                            location      age        isbn  rating  \\\n",
              "3     11676                       n/a, n/a, n/a  34.7439  0002005018       8   \n",
              "6     85526  victoria, british columbia, canada  36.0000  0002005018       0   \n",
              "7     96054             ottawa, ontario, canada  29.0000  0002005018       0   \n",
              "10   177458             ottawa, ontario, canada  29.0000  0002005018       0   \n",
              "13   219008        halifax, nova scotia, canada  60.0000  0002005018       7   \n",
              "\n",
              "      book_title           book_author  year_of_publication  \\\n",
              "3   Clara Callan  Richard Bruce Wright               2001.0   \n",
              "6   Clara Callan  Richard Bruce Wright               2001.0   \n",
              "7   Clara Callan  Richard Bruce Wright               2001.0   \n",
              "10  Clara Callan  Richard Bruce Wright               2001.0   \n",
              "13  Clara Callan  Richard Bruce Wright               2001.0   \n",
              "\n",
              "                publisher Language       Category  \n",
              "3   HarperFlamingo Canada       en  ['Actresses']  \n",
              "6   HarperFlamingo Canada       en  ['Actresses']  \n",
              "7   HarperFlamingo Canada       en  ['Actresses']  \n",
              "10  HarperFlamingo Canada       en  ['Actresses']  \n",
              "13  HarperFlamingo Canada       en  ['Actresses']  "
            ]
          },
          "execution_count": 20,
          "metadata": {},
          "output_type": "execute_result"
        }
      ],
      "source": [
        "user_df = df[df['user_id'].isin(users.index)]\n",
        "user_df.head()"
      ]
    },
    {
      "cell_type": "code",
      "execution_count": 21,
      "metadata": {},
      "outputs": [
        {
          "data": {
            "text/plain": [
              "(591914, 11)"
            ]
          },
          "execution_count": 21,
          "metadata": {},
          "output_type": "execute_result"
        }
      ],
      "source": [
        "user_df.shape"
      ]
    },
    {
      "cell_type": "markdown",
      "metadata": {},
      "source": [
        "# Books Analysis"
      ]
    },
    {
      "cell_type": "code",
      "execution_count": 22,
      "metadata": {},
      "outputs": [
        {
          "name": "stdout",
          "output_type": "stream",
          "text": [
            "Ratings of each book: \n"
          ]
        },
        {
          "data": {
            "text/plain": [
              "isbn\n",
              "0971880107    2502\n",
              "0316666343    1295\n",
              "0385504209     883\n",
              "0060928336     732\n",
              "0312195516     723\n",
              "              ... \n",
              "0590662082       1\n",
              "059066218X       1\n",
              "0590664700       1\n",
              "0590664719       1\n",
              "B0002K6K8O       1\n",
              "Name: rating, Length: 270170, dtype: int64"
            ]
          },
          "execution_count": 22,
          "metadata": {},
          "output_type": "execute_result"
        }
      ],
      "source": [
        "print(\"Ratings of each book: \")\n",
        "df.groupby('isbn')['rating'].count().sort_values(ascending= False)"
      ]
    },
    {
      "cell_type": "code",
      "execution_count": 23,
      "metadata": {},
      "outputs": [
        {
          "name": "stdout",
          "output_type": "stream",
          "text": [
            "Number of books that has got more then 100 reviews: \n"
          ]
        },
        {
          "data": {
            "text/plain": [
              "(717,)"
            ]
          },
          "execution_count": 23,
          "metadata": {},
          "output_type": "execute_result"
        }
      ],
      "source": [
        "print(\"Number of books that has got more then 100 reviews: \")\n",
        "temp = df.groupby('isbn')['rating'].count()\n",
        "books = temp[temp>100]\n",
        "books.shape"
      ]
    },
    {
      "cell_type": "code",
      "execution_count": 24,
      "metadata": {},
      "outputs": [],
      "source": [
        "# book_df = df[df['isbn'].isin(books.index)]\n",
        "# book_df.head()"
      ]
    },
    {
      "cell_type": "code",
      "execution_count": 25,
      "metadata": {},
      "outputs": [],
      "source": [
        "# merged_df = user_df.merge(book_df, on='title')\n",
        "# merged_df.shape"
      ]
    },
    {
      "cell_type": "markdown",
      "metadata": {},
      "source": [
        "Trying to keep the frequently rated books in book_df"
      ]
    },
    {
      "cell_type": "code",
      "execution_count": 26,
      "metadata": {},
      "outputs": [],
      "source": [
        "book_df = df.groupby('isbn')['rating'].count().reset_index()"
      ]
    },
    {
      "cell_type": "code",
      "execution_count": 27,
      "metadata": {},
      "outputs": [
        {
          "data": {
            "text/html": [
              "<div>\n",
              "<style scoped>\n",
              "    .dataframe tbody tr th:only-of-type {\n",
              "        vertical-align: middle;\n",
              "    }\n",
              "\n",
              "    .dataframe tbody tr th {\n",
              "        vertical-align: top;\n",
              "    }\n",
              "\n",
              "    .dataframe thead th {\n",
              "        text-align: right;\n",
              "    }\n",
              "</style>\n",
              "<table border=\"1\" class=\"dataframe\">\n",
              "  <thead>\n",
              "    <tr style=\"text-align: right;\">\n",
              "      <th></th>\n",
              "      <th>isbn</th>\n",
              "      <th>rating</th>\n",
              "    </tr>\n",
              "  </thead>\n",
              "  <tbody>\n",
              "    <tr>\n",
              "      <th>215968</th>\n",
              "      <td>0971880107</td>\n",
              "      <td>2502</td>\n",
              "    </tr>\n",
              "    <tr>\n",
              "      <th>38572</th>\n",
              "      <td>0316666343</td>\n",
              "      <td>1295</td>\n",
              "    </tr>\n",
              "    <tr>\n",
              "      <th>70803</th>\n",
              "      <td>0385504209</td>\n",
              "      <td>883</td>\n",
              "    </tr>\n",
              "    <tr>\n",
              "      <th>7345</th>\n",
              "      <td>0060928336</td>\n",
              "      <td>732</td>\n",
              "    </tr>\n",
              "    <tr>\n",
              "      <th>32372</th>\n",
              "      <td>0312195516</td>\n",
              "      <td>723</td>\n",
              "    </tr>\n",
              "    <tr>\n",
              "      <th>...</th>\n",
              "      <td>...</td>\n",
              "      <td>...</td>\n",
              "    </tr>\n",
              "    <tr>\n",
              "      <th>127842</th>\n",
              "      <td>0590662082</td>\n",
              "      <td>1</td>\n",
              "    </tr>\n",
              "    <tr>\n",
              "      <th>127843</th>\n",
              "      <td>059066218X</td>\n",
              "      <td>1</td>\n",
              "    </tr>\n",
              "    <tr>\n",
              "      <th>127845</th>\n",
              "      <td>0590664700</td>\n",
              "      <td>1</td>\n",
              "    </tr>\n",
              "    <tr>\n",
              "      <th>127846</th>\n",
              "      <td>0590664719</td>\n",
              "      <td>1</td>\n",
              "    </tr>\n",
              "    <tr>\n",
              "      <th>270169</th>\n",
              "      <td>B0002K6K8O</td>\n",
              "      <td>1</td>\n",
              "    </tr>\n",
              "  </tbody>\n",
              "</table>\n",
              "<p>270170 rows × 2 columns</p>\n",
              "</div>"
            ],
            "text/plain": [
              "              isbn  rating\n",
              "215968  0971880107    2502\n",
              "38572   0316666343    1295\n",
              "70803   0385504209     883\n",
              "7345    0060928336     732\n",
              "32372   0312195516     723\n",
              "...            ...     ...\n",
              "127842  0590662082       1\n",
              "127843  059066218X       1\n",
              "127845  0590664700       1\n",
              "127846  0590664719       1\n",
              "270169  B0002K6K8O       1\n",
              "\n",
              "[270170 rows x 2 columns]"
            ]
          },
          "execution_count": 27,
          "metadata": {},
          "output_type": "execute_result"
        }
      ],
      "source": [
        "book_df.sort_values(by = 'rating', ascending=False)"
      ]
    },
    {
      "cell_type": "code",
      "execution_count": 28,
      "metadata": {},
      "outputs": [],
      "source": [
        "book_df.rename(columns={'rating': 'num_rating'}, inplace= True)"
      ]
    },
    {
      "cell_type": "markdown",
      "metadata": {},
      "source": [
        "# Merging User and Book"
      ]
    },
    {
      "cell_type": "code",
      "execution_count": 29,
      "metadata": {},
      "outputs": [],
      "source": [
        "merged_df = user_df.merge(book_df, on = 'isbn', how='inner')"
      ]
    },
    {
      "cell_type": "code",
      "execution_count": 30,
      "metadata": {},
      "outputs": [
        {
          "data": {
            "text/plain": [
              "(591914, 12)"
            ]
          },
          "execution_count": 30,
          "metadata": {},
          "output_type": "execute_result"
        }
      ],
      "source": [
        "merged_df.shape"
      ]
    },
    {
      "cell_type": "code",
      "execution_count": 31,
      "metadata": {},
      "outputs": [
        {
          "data": {
            "text/html": [
              "<div>\n",
              "<style scoped>\n",
              "    .dataframe tbody tr th:only-of-type {\n",
              "        vertical-align: middle;\n",
              "    }\n",
              "\n",
              "    .dataframe tbody tr th {\n",
              "        vertical-align: top;\n",
              "    }\n",
              "\n",
              "    .dataframe thead th {\n",
              "        text-align: right;\n",
              "    }\n",
              "</style>\n",
              "<table border=\"1\" class=\"dataframe\">\n",
              "  <thead>\n",
              "    <tr style=\"text-align: right;\">\n",
              "      <th></th>\n",
              "      <th>user_id</th>\n",
              "      <th>location</th>\n",
              "      <th>age</th>\n",
              "      <th>isbn</th>\n",
              "      <th>rating</th>\n",
              "      <th>book_title</th>\n",
              "      <th>book_author</th>\n",
              "      <th>year_of_publication</th>\n",
              "      <th>publisher</th>\n",
              "      <th>Language</th>\n",
              "      <th>Category</th>\n",
              "      <th>num_rating</th>\n",
              "    </tr>\n",
              "  </thead>\n",
              "  <tbody>\n",
              "    <tr>\n",
              "      <th>1</th>\n",
              "      <td>85526</td>\n",
              "      <td>victoria, british columbia, canada</td>\n",
              "      <td>36.0000</td>\n",
              "      <td>0002005018</td>\n",
              "      <td>0</td>\n",
              "      <td>Clara Callan</td>\n",
              "      <td>Richard Bruce Wright</td>\n",
              "      <td>2001.0</td>\n",
              "      <td>HarperFlamingo Canada</td>\n",
              "      <td>en</td>\n",
              "      <td>['Actresses']</td>\n",
              "      <td>14</td>\n",
              "    </tr>\n",
              "    <tr>\n",
              "      <th>2</th>\n",
              "      <td>96054</td>\n",
              "      <td>ottawa, ontario, canada</td>\n",
              "      <td>29.0000</td>\n",
              "      <td>0002005018</td>\n",
              "      <td>0</td>\n",
              "      <td>Clara Callan</td>\n",
              "      <td>Richard Bruce Wright</td>\n",
              "      <td>2001.0</td>\n",
              "      <td>HarperFlamingo Canada</td>\n",
              "      <td>en</td>\n",
              "      <td>['Actresses']</td>\n",
              "      <td>14</td>\n",
              "    </tr>\n",
              "    <tr>\n",
              "      <th>3</th>\n",
              "      <td>177458</td>\n",
              "      <td>ottawa, ontario, canada</td>\n",
              "      <td>29.0000</td>\n",
              "      <td>0002005018</td>\n",
              "      <td>0</td>\n",
              "      <td>Clara Callan</td>\n",
              "      <td>Richard Bruce Wright</td>\n",
              "      <td>2001.0</td>\n",
              "      <td>HarperFlamingo Canada</td>\n",
              "      <td>en</td>\n",
              "      <td>['Actresses']</td>\n",
              "      <td>14</td>\n",
              "    </tr>\n",
              "    <tr>\n",
              "      <th>4</th>\n",
              "      <td>219008</td>\n",
              "      <td>halifax, nova scotia, canada</td>\n",
              "      <td>60.0000</td>\n",
              "      <td>0002005018</td>\n",
              "      <td>7</td>\n",
              "      <td>Clara Callan</td>\n",
              "      <td>Richard Bruce Wright</td>\n",
              "      <td>2001.0</td>\n",
              "      <td>HarperFlamingo Canada</td>\n",
              "      <td>en</td>\n",
              "      <td>['Actresses']</td>\n",
              "      <td>14</td>\n",
              "    </tr>\n",
              "    <tr>\n",
              "      <th>0</th>\n",
              "      <td>11676</td>\n",
              "      <td>n/a, n/a, n/a</td>\n",
              "      <td>34.7439</td>\n",
              "      <td>0002005018</td>\n",
              "      <td>8</td>\n",
              "      <td>Clara Callan</td>\n",
              "      <td>Richard Bruce Wright</td>\n",
              "      <td>2001.0</td>\n",
              "      <td>HarperFlamingo Canada</td>\n",
              "      <td>en</td>\n",
              "      <td>['Actresses']</td>\n",
              "      <td>14</td>\n",
              "    </tr>\n",
              "  </tbody>\n",
              "</table>\n",
              "</div>"
            ],
            "text/plain": [
              "   user_id                            location      age        isbn  rating  \\\n",
              "1    85526  victoria, british columbia, canada  36.0000  0002005018       0   \n",
              "2    96054             ottawa, ontario, canada  29.0000  0002005018       0   \n",
              "3   177458             ottawa, ontario, canada  29.0000  0002005018       0   \n",
              "4   219008        halifax, nova scotia, canada  60.0000  0002005018       7   \n",
              "0    11676                       n/a, n/a, n/a  34.7439  0002005018       8   \n",
              "\n",
              "     book_title           book_author  year_of_publication  \\\n",
              "1  Clara Callan  Richard Bruce Wright               2001.0   \n",
              "2  Clara Callan  Richard Bruce Wright               2001.0   \n",
              "3  Clara Callan  Richard Bruce Wright               2001.0   \n",
              "4  Clara Callan  Richard Bruce Wright               2001.0   \n",
              "0  Clara Callan  Richard Bruce Wright               2001.0   \n",
              "\n",
              "               publisher Language       Category  num_rating  \n",
              "1  HarperFlamingo Canada       en  ['Actresses']          14  \n",
              "2  HarperFlamingo Canada       en  ['Actresses']          14  \n",
              "3  HarperFlamingo Canada       en  ['Actresses']          14  \n",
              "4  HarperFlamingo Canada       en  ['Actresses']          14  \n",
              "0  HarperFlamingo Canada       en  ['Actresses']          14  "
            ]
          },
          "execution_count": 31,
          "metadata": {},
          "output_type": "execute_result"
        }
      ],
      "source": [
        "merged_df.head().sort_values(by='rating')"
      ]
    },
    {
      "cell_type": "code",
      "execution_count": 32,
      "metadata": {},
      "outputs": [
        {
          "data": {
            "text/plain": [
              "(63669, 12)"
            ]
          },
          "execution_count": 32,
          "metadata": {},
          "output_type": "execute_result"
        }
      ],
      "source": [
        "# selecting only those books which has been rated more than 100 times\n",
        "merged_df = merged_df[merged_df['num_rating']>100]\n",
        "merged_df.shape"
      ]
    },
    {
      "cell_type": "code",
      "execution_count": 33,
      "metadata": {},
      "outputs": [
        {
          "data": {
            "text/html": [
              "<div>\n",
              "<style scoped>\n",
              "    .dataframe tbody tr th:only-of-type {\n",
              "        vertical-align: middle;\n",
              "    }\n",
              "\n",
              "    .dataframe tbody tr th {\n",
              "        vertical-align: top;\n",
              "    }\n",
              "\n",
              "    .dataframe thead th {\n",
              "        text-align: right;\n",
              "    }\n",
              "</style>\n",
              "<table border=\"1\" class=\"dataframe\">\n",
              "  <thead>\n",
              "    <tr style=\"text-align: right;\">\n",
              "      <th></th>\n",
              "      <th>user_id</th>\n",
              "      <th>location</th>\n",
              "      <th>age</th>\n",
              "      <th>isbn</th>\n",
              "      <th>rating</th>\n",
              "      <th>book_title</th>\n",
              "      <th>book_author</th>\n",
              "      <th>year_of_publication</th>\n",
              "      <th>publisher</th>\n",
              "      <th>Language</th>\n",
              "      <th>Category</th>\n",
              "      <th>num_rating</th>\n",
              "    </tr>\n",
              "  </thead>\n",
              "  <tbody>\n",
              "    <tr>\n",
              "      <th>35</th>\n",
              "      <td>2977</td>\n",
              "      <td>richland, washington, usa</td>\n",
              "      <td>25.0000</td>\n",
              "      <td>0440234743</td>\n",
              "      <td>0</td>\n",
              "      <td>The Testament</td>\n",
              "      <td>John Grisham</td>\n",
              "      <td>1999.0</td>\n",
              "      <td>Dell</td>\n",
              "      <td>en</td>\n",
              "      <td>['Fiction']</td>\n",
              "      <td>422</td>\n",
              "    </tr>\n",
              "    <tr>\n",
              "      <th>36</th>\n",
              "      <td>3363</td>\n",
              "      <td>knoxville, tennessee, usa</td>\n",
              "      <td>29.0000</td>\n",
              "      <td>0440234743</td>\n",
              "      <td>0</td>\n",
              "      <td>The Testament</td>\n",
              "      <td>John Grisham</td>\n",
              "      <td>1999.0</td>\n",
              "      <td>Dell</td>\n",
              "      <td>en</td>\n",
              "      <td>['Fiction']</td>\n",
              "      <td>422</td>\n",
              "    </tr>\n",
              "    <tr>\n",
              "      <th>37</th>\n",
              "      <td>7346</td>\n",
              "      <td>sunnyvale, california, usa</td>\n",
              "      <td>49.0000</td>\n",
              "      <td>0440234743</td>\n",
              "      <td>9</td>\n",
              "      <td>The Testament</td>\n",
              "      <td>John Grisham</td>\n",
              "      <td>1999.0</td>\n",
              "      <td>Dell</td>\n",
              "      <td>en</td>\n",
              "      <td>['Fiction']</td>\n",
              "      <td>422</td>\n",
              "    </tr>\n",
              "    <tr>\n",
              "      <th>38</th>\n",
              "      <td>9747</td>\n",
              "      <td>o`fallon, missouri, usa</td>\n",
              "      <td>34.7439</td>\n",
              "      <td>0440234743</td>\n",
              "      <td>0</td>\n",
              "      <td>The Testament</td>\n",
              "      <td>John Grisham</td>\n",
              "      <td>1999.0</td>\n",
              "      <td>Dell</td>\n",
              "      <td>en</td>\n",
              "      <td>['Fiction']</td>\n",
              "      <td>422</td>\n",
              "    </tr>\n",
              "    <tr>\n",
              "      <th>39</th>\n",
              "      <td>9856</td>\n",
              "      <td>glendale, colorado, usa</td>\n",
              "      <td>22.0000</td>\n",
              "      <td>0440234743</td>\n",
              "      <td>0</td>\n",
              "      <td>The Testament</td>\n",
              "      <td>John Grisham</td>\n",
              "      <td>1999.0</td>\n",
              "      <td>Dell</td>\n",
              "      <td>en</td>\n",
              "      <td>['Fiction']</td>\n",
              "      <td>422</td>\n",
              "    </tr>\n",
              "  </tbody>\n",
              "</table>\n",
              "</div>"
            ],
            "text/plain": [
              "    user_id                    location      age        isbn  rating  \\\n",
              "35     2977   richland, washington, usa  25.0000  0440234743       0   \n",
              "36     3363   knoxville, tennessee, usa  29.0000  0440234743       0   \n",
              "37     7346  sunnyvale, california, usa  49.0000  0440234743       9   \n",
              "38     9747     o`fallon, missouri, usa  34.7439  0440234743       0   \n",
              "39     9856     glendale, colorado, usa  22.0000  0440234743       0   \n",
              "\n",
              "       book_title   book_author  year_of_publication publisher Language  \\\n",
              "35  The Testament  John Grisham               1999.0      Dell       en   \n",
              "36  The Testament  John Grisham               1999.0      Dell       en   \n",
              "37  The Testament  John Grisham               1999.0      Dell       en   \n",
              "38  The Testament  John Grisham               1999.0      Dell       en   \n",
              "39  The Testament  John Grisham               1999.0      Dell       en   \n",
              "\n",
              "       Category  num_rating  \n",
              "35  ['Fiction']         422  \n",
              "36  ['Fiction']         422  \n",
              "37  ['Fiction']         422  \n",
              "38  ['Fiction']         422  \n",
              "39  ['Fiction']         422  "
            ]
          },
          "execution_count": 33,
          "metadata": {},
          "output_type": "execute_result"
        }
      ],
      "source": [
        "merged_df.head()"
      ]
    },
    {
      "cell_type": "code",
      "execution_count": 34,
      "metadata": {},
      "outputs": [
        {
          "data": {
            "text/plain": [
              "user_id                1616\n",
              "location               1076\n",
              "age                      63\n",
              "isbn                    717\n",
              "rating                   11\n",
              "book_title              664\n",
              "book_author             316\n",
              "year_of_publication      28\n",
              "publisher               126\n",
              "Language                  2\n",
              "Category                 42\n",
              "num_rating              231\n",
              "dtype: int64"
            ]
          },
          "execution_count": 34,
          "metadata": {},
          "output_type": "execute_result"
        }
      ],
      "source": [
        "# there were 1638 users who has rated more then 100 books\n",
        "# and 4100 books which have been rated more then 30 times\n",
        "merged_df.nunique()"
      ]
    },
    {
      "cell_type": "code",
      "execution_count": 35,
      "metadata": {},
      "outputs": [
        {
          "name": "stdout",
          "output_type": "stream",
          "text": [
            "Rating Frequencies: rating\n",
            "0     45849\n",
            "8      4410\n",
            "10     3899\n",
            "9      3615\n",
            "7      2762\n",
            "5      1438\n",
            "6      1168\n",
            "4       249\n",
            "3       147\n",
            "2        71\n",
            "1        61\n",
            "Name: count, dtype: int64\n"
          ]
        }
      ],
      "source": [
        "ratings = merged_df['rating'].value_counts()\n",
        "print(\"Rating Frequencies:\", ratings)"
      ]
    },
    {
      "cell_type": "code",
      "execution_count": 36,
      "metadata": {},
      "outputs": [
        {
          "data": {
            "text/plain": [
              "(1616, 717)"
            ]
          },
          "execution_count": 36,
          "metadata": {},
          "output_type": "execute_result"
        }
      ],
      "source": [
        "user_book_matrix = merged_df.pivot_table(index = 'user_id', columns='isbn', values = 'rating')\n",
        "user_book_matrix.shape"
      ]
    },
    {
      "cell_type": "code",
      "execution_count": 37,
      "metadata": {},
      "outputs": [
        {
          "data": {
            "text/html": [
              "<div>\n",
              "<style scoped>\n",
              "    .dataframe tbody tr th:only-of-type {\n",
              "        vertical-align: middle;\n",
              "    }\n",
              "\n",
              "    .dataframe tbody tr th {\n",
              "        vertical-align: top;\n",
              "    }\n",
              "\n",
              "    .dataframe thead th {\n",
              "        text-align: right;\n",
              "    }\n",
              "</style>\n",
              "<table border=\"1\" class=\"dataframe\">\n",
              "  <thead>\n",
              "    <tr style=\"text-align: right;\">\n",
              "      <th>isbn</th>\n",
              "      <th>002542730X</th>\n",
              "      <th>0060008032</th>\n",
              "      <th>0060096195</th>\n",
              "      <th>006016848X</th>\n",
              "      <th>0060173289</th>\n",
              "      <th>0060175400</th>\n",
              "      <th>006019491X</th>\n",
              "      <th>0060199652</th>\n",
              "      <th>0060391626</th>\n",
              "      <th>0060392452</th>\n",
              "      <th>...</th>\n",
              "      <th>1558744630</th>\n",
              "      <th>1558745157</th>\n",
              "      <th>1559029838</th>\n",
              "      <th>1573225517</th>\n",
              "      <th>1573225789</th>\n",
              "      <th>1573227331</th>\n",
              "      <th>1573229326</th>\n",
              "      <th>1573229571</th>\n",
              "      <th>1592400876</th>\n",
              "      <th>1878424319</th>\n",
              "    </tr>\n",
              "    <tr>\n",
              "      <th>user_id</th>\n",
              "      <th></th>\n",
              "      <th></th>\n",
              "      <th></th>\n",
              "      <th></th>\n",
              "      <th></th>\n",
              "      <th></th>\n",
              "      <th></th>\n",
              "      <th></th>\n",
              "      <th></th>\n",
              "      <th></th>\n",
              "      <th></th>\n",
              "      <th></th>\n",
              "      <th></th>\n",
              "      <th></th>\n",
              "      <th></th>\n",
              "      <th></th>\n",
              "      <th></th>\n",
              "      <th></th>\n",
              "      <th></th>\n",
              "      <th></th>\n",
              "      <th></th>\n",
              "    </tr>\n",
              "  </thead>\n",
              "  <tbody>\n",
              "    <tr>\n",
              "      <th>254</th>\n",
              "      <td>NaN</td>\n",
              "      <td>NaN</td>\n",
              "      <td>NaN</td>\n",
              "      <td>NaN</td>\n",
              "      <td>NaN</td>\n",
              "      <td>NaN</td>\n",
              "      <td>NaN</td>\n",
              "      <td>NaN</td>\n",
              "      <td>NaN</td>\n",
              "      <td>NaN</td>\n",
              "      <td>...</td>\n",
              "      <td>NaN</td>\n",
              "      <td>NaN</td>\n",
              "      <td>NaN</td>\n",
              "      <td>NaN</td>\n",
              "      <td>NaN</td>\n",
              "      <td>NaN</td>\n",
              "      <td>NaN</td>\n",
              "      <td>NaN</td>\n",
              "      <td>NaN</td>\n",
              "      <td>NaN</td>\n",
              "    </tr>\n",
              "    <tr>\n",
              "      <th>507</th>\n",
              "      <td>NaN</td>\n",
              "      <td>NaN</td>\n",
              "      <td>NaN</td>\n",
              "      <td>NaN</td>\n",
              "      <td>NaN</td>\n",
              "      <td>NaN</td>\n",
              "      <td>NaN</td>\n",
              "      <td>NaN</td>\n",
              "      <td>NaN</td>\n",
              "      <td>0.0</td>\n",
              "      <td>...</td>\n",
              "      <td>NaN</td>\n",
              "      <td>NaN</td>\n",
              "      <td>NaN</td>\n",
              "      <td>NaN</td>\n",
              "      <td>NaN</td>\n",
              "      <td>NaN</td>\n",
              "      <td>NaN</td>\n",
              "      <td>NaN</td>\n",
              "      <td>NaN</td>\n",
              "      <td>NaN</td>\n",
              "    </tr>\n",
              "    <tr>\n",
              "      <th>882</th>\n",
              "      <td>NaN</td>\n",
              "      <td>NaN</td>\n",
              "      <td>NaN</td>\n",
              "      <td>NaN</td>\n",
              "      <td>NaN</td>\n",
              "      <td>NaN</td>\n",
              "      <td>NaN</td>\n",
              "      <td>NaN</td>\n",
              "      <td>NaN</td>\n",
              "      <td>NaN</td>\n",
              "      <td>...</td>\n",
              "      <td>NaN</td>\n",
              "      <td>NaN</td>\n",
              "      <td>NaN</td>\n",
              "      <td>NaN</td>\n",
              "      <td>NaN</td>\n",
              "      <td>NaN</td>\n",
              "      <td>NaN</td>\n",
              "      <td>NaN</td>\n",
              "      <td>NaN</td>\n",
              "      <td>NaN</td>\n",
              "    </tr>\n",
              "    <tr>\n",
              "      <th>1424</th>\n",
              "      <td>NaN</td>\n",
              "      <td>NaN</td>\n",
              "      <td>NaN</td>\n",
              "      <td>NaN</td>\n",
              "      <td>NaN</td>\n",
              "      <td>NaN</td>\n",
              "      <td>NaN</td>\n",
              "      <td>NaN</td>\n",
              "      <td>NaN</td>\n",
              "      <td>NaN</td>\n",
              "      <td>...</td>\n",
              "      <td>NaN</td>\n",
              "      <td>NaN</td>\n",
              "      <td>NaN</td>\n",
              "      <td>NaN</td>\n",
              "      <td>NaN</td>\n",
              "      <td>NaN</td>\n",
              "      <td>NaN</td>\n",
              "      <td>NaN</td>\n",
              "      <td>NaN</td>\n",
              "      <td>NaN</td>\n",
              "    </tr>\n",
              "    <tr>\n",
              "      <th>1435</th>\n",
              "      <td>NaN</td>\n",
              "      <td>NaN</td>\n",
              "      <td>NaN</td>\n",
              "      <td>NaN</td>\n",
              "      <td>NaN</td>\n",
              "      <td>NaN</td>\n",
              "      <td>NaN</td>\n",
              "      <td>NaN</td>\n",
              "      <td>NaN</td>\n",
              "      <td>NaN</td>\n",
              "      <td>...</td>\n",
              "      <td>NaN</td>\n",
              "      <td>NaN</td>\n",
              "      <td>NaN</td>\n",
              "      <td>NaN</td>\n",
              "      <td>NaN</td>\n",
              "      <td>NaN</td>\n",
              "      <td>NaN</td>\n",
              "      <td>NaN</td>\n",
              "      <td>NaN</td>\n",
              "      <td>NaN</td>\n",
              "    </tr>\n",
              "  </tbody>\n",
              "</table>\n",
              "<p>5 rows × 717 columns</p>\n",
              "</div>"
            ],
            "text/plain": [
              "isbn     002542730X  0060008032  0060096195  006016848X  0060173289  \\\n",
              "user_id                                                               \n",
              "254             NaN         NaN         NaN         NaN         NaN   \n",
              "507             NaN         NaN         NaN         NaN         NaN   \n",
              "882             NaN         NaN         NaN         NaN         NaN   \n",
              "1424            NaN         NaN         NaN         NaN         NaN   \n",
              "1435            NaN         NaN         NaN         NaN         NaN   \n",
              "\n",
              "isbn     0060175400  006019491X  0060199652  0060391626  0060392452  ...  \\\n",
              "user_id                                                              ...   \n",
              "254             NaN         NaN         NaN         NaN         NaN  ...   \n",
              "507             NaN         NaN         NaN         NaN         0.0  ...   \n",
              "882             NaN         NaN         NaN         NaN         NaN  ...   \n",
              "1424            NaN         NaN         NaN         NaN         NaN  ...   \n",
              "1435            NaN         NaN         NaN         NaN         NaN  ...   \n",
              "\n",
              "isbn     1558744630  1558745157  1559029838  1573225517  1573225789  \\\n",
              "user_id                                                               \n",
              "254             NaN         NaN         NaN         NaN         NaN   \n",
              "507             NaN         NaN         NaN         NaN         NaN   \n",
              "882             NaN         NaN         NaN         NaN         NaN   \n",
              "1424            NaN         NaN         NaN         NaN         NaN   \n",
              "1435            NaN         NaN         NaN         NaN         NaN   \n",
              "\n",
              "isbn     1573227331  1573229326  1573229571  1592400876  1878424319  \n",
              "user_id                                                              \n",
              "254             NaN         NaN         NaN         NaN         NaN  \n",
              "507             NaN         NaN         NaN         NaN         NaN  \n",
              "882             NaN         NaN         NaN         NaN         NaN  \n",
              "1424            NaN         NaN         NaN         NaN         NaN  \n",
              "1435            NaN         NaN         NaN         NaN         NaN  \n",
              "\n",
              "[5 rows x 717 columns]"
            ]
          },
          "execution_count": 37,
          "metadata": {},
          "output_type": "execute_result"
        }
      ],
      "source": [
        "user_book_matrix.head()"
      ]
    },
    {
      "cell_type": "code",
      "execution_count": 38,
      "metadata": {},
      "outputs": [],
      "source": [
        "# user_book_matrix.to_csv('user_book_mat.csv')\n",
        "# merged_df.to_csv('merged_df.csv')"
      ]
    },
    {
      "cell_type": "code",
      "execution_count": 39,
      "metadata": {},
      "outputs": [
        {
          "name": "stdout",
          "output_type": "stream",
          "text": [
            "Total cells:  1158672\n",
            "Missing cells:  1095003\n",
            "Missing percenatge: 0.9450500227847053\n"
          ]
        }
      ],
      "source": [
        "\n",
        "print(f'Total cells: ', user_book_matrix.shape[0] * user_book_matrix.shape[1])\n",
        "print(f'Missing cells: ', user_book_matrix.isnull().sum().sum())\n",
        "print(f'Missing percenatge:', (user_book_matrix.isnull().sum().sum())/(user_book_matrix.shape[0] * user_book_matrix.shape[1]))"
      ]
    }
  ],
  "metadata": {
    "colab": {
      "provenance": []
    },
    "kernelspec": {
      "display_name": "Python 3",
      "name": "python3"
    },
    "language_info": {
      "codemirror_mode": {
        "name": "ipython",
        "version": 3
      },
      "file_extension": ".py",
      "mimetype": "text/x-python",
      "name": "python",
      "nbconvert_exporter": "python",
      "pygments_lexer": "ipython3",
      "version": "3.10.11"
    }
  },
  "nbformat": 4,
  "nbformat_minor": 0
}
